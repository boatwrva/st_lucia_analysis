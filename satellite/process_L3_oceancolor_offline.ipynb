{
 "cells": [
  {
   "cell_type": "markdown",
   "id": "f2fd6394-0073-4a05-9deb-bfdd9ae044c3",
   "metadata": {},
   "source": [
    "## Process L3 satellite ocean color products for climatology \n",
    "\n",
    "\n"
   ]
  },
  {
   "cell_type": "code",
   "execution_count": 25,
   "id": "e227c87a-2194-4b05-98a4-b1d203134f40",
   "metadata": {},
   "outputs": [],
   "source": [
    "# setup \n",
    "\n",
    "from cartopy.mpl.ticker import LongitudeFormatter, LatitudeFormatter\n",
    "import cartopy\n",
    "import earthaccess\n",
    "import matplotlib.pyplot as plt\n",
    "import matplotlib.ticker as mticker\n",
    "import numpy as np\n",
    "import xarray as xr\n",
    "import os\n",
    "import netCDF4 \n",
    "import datetime as dt \n",
    "\n"
   ]
  },
  {
   "cell_type": "code",
   "execution_count": 8,
   "id": "7f08eb5e-8ecc-490c-a387-9f4179789409",
   "metadata": {},
   "outputs": [
    {
     "data": {
      "text/plain": [
       "['AQUA_MODIS.20240313_20240320.L3m.8D.CHL.chlor_a.9km.nc',\n",
       " 'AQUA_MODIS.20240218_20240225.L3m.8D.CHL.chlor_a.9km.nc',\n",
       " 'AQUA_MODIS.20240210_20240217.L3m.8D.CHL.chlor_a.9km.nc',\n",
       " 'AQUA_MODIS.20240329_20240405.L3m.8D.CHL.chlor_a.9km.nc',\n",
       " 'AQUA_MODIS.20240202_20240209.L3m.8D.CHL.chlor_a.9km.nc',\n",
       " 'AQUA_MODIS.20240321_20240328.L3m.8D.CHL.chlor_a.9km.nc',\n",
       " 'AQUA_MODIS.20240305_20240312.L3m.8D.CHL.chlor_a.9km.nc',\n",
       " 'AQUA_MODIS.20240226_20240304.L3m.8D.CHL.chlor_a.9km.nc',\n",
       " 'AQUA_MODIS.20240125_20240201.L3m.8D.CHL.chlor_a.9km.nc']"
      ]
     },
     "execution_count": 8,
     "metadata": {},
     "output_type": "execute_result"
    }
   ],
   "source": [
    "# see data accumulated in directory \n",
    "\n",
    "#os.listdir('/home/vboatwright/santalucia/L3_2024trial/')\n",
    "path = '/home/vboatwright/OneDrive/Documents/SIO/projects/santalucia/data/L3_2024trial/'\n",
    "files = os.listdir(path)\n",
    "\n",
    "files"
   ]
  },
  {
   "cell_type": "code",
   "execution_count": 9,
   "id": "a6b07c56-b403-44d6-b4b4-d6da901c32ed",
   "metadata": {},
   "outputs": [],
   "source": [
    "# sort the files by date \n",
    "\n",
    "# dates are sorted for these at characters 12:20 \n",
    "sorted_files = sorted(files, key=lambda x: x[12:20])\n",
    "\n",
    "example = sorted_files[0]\n",
    "S = netCDF4.Dataset(path+example) \n",
    "\n",
    "# process each file by date \n",
    "date_intervals = []\n",
    "dates = []\n",
    "\n"
   ]
  },
  {
   "cell_type": "code",
   "execution_count": 10,
   "id": "2d585c03-4395-40c2-a274-460b9b22944f",
   "metadata": {},
   "outputs": [
    {
     "data": {
      "text/plain": [
       "<class 'netCDF4.Dataset'>\n",
       "root group (NETCDF4 data model, file format HDF5):\n",
       "    product_name: AQUA_MODIS.20240125_20240201.L3m.8D.CHL.chlor_a.9km.nc\n",
       "    instrument: MODIS\n",
       "    title: MODISA Level-3 Standard Mapped Image\n",
       "    project: Ocean Biology Processing Group (NASA/GSFC/OBPG)\n",
       "    platform: Aqua\n",
       "    source: satellite observations from MODIS-Aqua\n",
       "    temporal_range: 8-day\n",
       "    processing_version: R2022.0.2\n",
       "    date_created: 2024-11-20T17:18:31.000Z\n",
       "    history: l3mapgen par=AQUA_MODIS.20240125_20240201.L3m.8D.CHL.chlor_a.9km.nc.param \n",
       "    l2_flag_names: ATMFAIL,LAND,HILT,HISATZEN,STRAYLIGHT,CLDICE,COCCOLITH,LOWLW,CHLWARN,CHLFAIL,NAVWARN,MAXAERITER,ATMWARN,HISOLZEN,NAVFAIL,FILTER,HIGLINT\n",
       "    time_coverage_start: 2024-01-25T00:20:01.000Z\n",
       "    time_coverage_end: 2024-02-02T02:50:00.000Z\n",
       "    start_orbit_number: 115570\n",
       "    end_orbit_number: 115688\n",
       "    map_projection: Equidistant Cylindrical\n",
       "    latitude_units: degrees_north\n",
       "    longitude_units: degrees_east\n",
       "    northernmost_latitude: 90.0\n",
       "    southernmost_latitude: -90.0\n",
       "    westernmost_longitude: -180.0\n",
       "    easternmost_longitude: 180.0\n",
       "    geospatial_lat_max: 90.0\n",
       "    geospatial_lat_min: -90.0\n",
       "    geospatial_lon_max: 180.0\n",
       "    geospatial_lon_min: -180.0\n",
       "    latitude_step: 0.083333336\n",
       "    longitude_step: 0.083333336\n",
       "    sw_point_latitude: -89.958336\n",
       "    sw_point_longitude: -179.95833\n",
       "    spatialResolution: 9.276624 km\n",
       "    geospatial_lon_resolution: 9.276624 km\n",
       "    geospatial_lat_resolution: 9.276624 km\n",
       "    geospatial_lat_units: degrees_north\n",
       "    geospatial_lon_units: degrees_east\n",
       "    number_of_lines: 2160\n",
       "    number_of_columns: 4320\n",
       "    measure: Mean\n",
       "    suggested_image_scaling_minimum: 0.01\n",
       "    suggested_image_scaling_maximum: 20.0\n",
       "    suggested_image_scaling_type: LOG\n",
       "    suggested_image_scaling_applied: No\n",
       "    _lastModified: 2024-11-20T17:18:31.000Z\n",
       "    Conventions: CF-1.6 ACDD-1.3\n",
       "    institution: NASA Goddard Space Flight Center, Ocean Ecology Laboratory, Ocean Biology Processing Group\n",
       "    standard_name_vocabulary: CF Standard Name Table v36\n",
       "    naming_authority: gov.nasa.gsfc.sci.oceandata\n",
       "    id: R2022.0.2/L3/AQUA_MODIS.20240125_20240201.L3b.8D.CHL.nc\n",
       "    license: https://science.nasa.gov/earth-science/earth-science-data/data-information-policy/\n",
       "    creator_name: NASA/GSFC/OBPG\n",
       "    publisher_name: NASA/GSFC/OBPG\n",
       "    creator_email: data@oceancolor.gsfc.nasa.gov\n",
       "    publisher_email: data@oceancolor.gsfc.nasa.gov\n",
       "    creator_url: https://oceandata.sci.gsfc.nasa.gov\n",
       "    publisher_url: https://oceandata.sci.gsfc.nasa.gov\n",
       "    processing_level: L3 Mapped\n",
       "    cdm_data_type: grid\n",
       "    identifier_product_doi_authority: http://dx.doi.org\n",
       "    identifier_product_doi: 10.5067/AQUA/MODIS/L3M/CHL/2022\n",
       "    keywords: Earth Science > Oceans > Ocean Chemistry > Pigments > Chlorophyll; Earth Science > Oceans > Ocean Chemistry > Chlorophyll\n",
       "    keywords_vocabulary: NASA Global Change Master Directory (GCMD) Science Keywords\n",
       "    data_bins: 3695159\n",
       "    data_minimum: 0.0010246747\n",
       "    data_maximum: 85.31098\n",
       "    dimensions(sizes): lat(2160), lon(4320), rgb(3), eightbitcolor(256)\n",
       "    variables(dimensions): float32 chlor_a(lat, lon), float32 lat(lat), float32 lon(lon), uint8 palette(rgb, eightbitcolor)\n",
       "    groups: processing_control"
      ]
     },
     "execution_count": 10,
     "metadata": {},
     "output_type": "execute_result"
    }
   ],
   "source": [
    "S"
   ]
  },
  {
   "cell_type": "code",
   "execution_count": 11,
   "id": "7df3a135-86aa-4ef5-81d3-12f9c2c21466",
   "metadata": {},
   "outputs": [],
   "source": [
    "chl_nc = S['chlor_a'][:]\n",
    "chl = chl_nc.data\n",
    "chl[chl_nc.mask==True]=np.nan\n",
    "\n",
    "lon = S['lon'][:].data\n",
    "lat = S['lat'][:].data\n"
   ]
  },
  {
   "cell_type": "code",
   "execution_count": 12,
   "id": "6fe4cec5-102c-47ac-89d1-43cd8b7b11dc",
   "metadata": {},
   "outputs": [
    {
     "data": {
      "text/plain": [
       "<matplotlib.contour.QuadContourSet at 0x73854834eab0>"
      ]
     },
     "execution_count": 12,
     "metadata": {},
     "output_type": "execute_result"
    },
    {
     "data": {
      "image/png": "[encoded data removed]",
      "text/plain": [
       "<Figure size 640x480 with 1 Axes>"
      ]
     },
     "metadata": {},
     "output_type": "display_data"
    }
   ],
   "source": [
    "plt.contourf(lon,lat,chl)"
   ]
  },
  {
   "cell_type": "code",
   "execution_count": 57,
   "id": "493b4d33-86c4-4fc1-a7d7-1087a83b675f",
   "metadata": {},
   "outputs": [
    {
     "data": {
      "text/plain": [
       "(2160, 4320)"
      ]
     },
     "execution_count": 57,
     "metadata": {},
     "output_type": "execute_result"
    }
   ],
   "source": [
    "chl.shape"
   ]
  },
  {
   "cell_type": "code",
   "execution_count": 14,
   "id": "b4174b68-8afd-4791-892f-7499dd91d0e3",
   "metadata": {},
   "outputs": [
    {
     "ename": "TypeError",
     "evalue": "Input z must be 2D, not 1D",
     "output_type": "error",
     "traceback": [
      "\u001b[0;31m---------------------------------------------------------------------------\u001b[0m",
      "\u001b[0;31mTypeError\u001b[0m                                 Traceback (most recent call last)",
      "Cell \u001b[0;32mIn[14], line 21\u001b[0m\n\u001b[1;32m     16\u001b[0m \u001b[38;5;66;03m# chl shape = (2160,4320) ; lon = 4320; lat = 2160 \u001b[39;00m\n\u001b[1;32m     17\u001b[0m \u001b[38;5;66;03m# aka, chl shape = (lat,lon)\u001b[39;00m\n\u001b[1;32m     19\u001b[0m chl_select \u001b[38;5;241m=\u001b[39m chl[yb,xb]\n\u001b[0;32m---> 21\u001b[0m \u001b[43mplt\u001b[49m\u001b[38;5;241;43m.\u001b[39;49m\u001b[43mcontourf\u001b[49m\u001b[43m(\u001b[49m\u001b[43mchl_select\u001b[49m\u001b[43m)\u001b[49m\n",
      "File \u001b[0;32m~/python_environments/sio/lib/python3.12/site-packages/matplotlib/pyplot.py:3154\u001b[0m, in \u001b[0;36mcontourf\u001b[0;34m(data, *args, **kwargs)\u001b[0m\n\u001b[1;32m   3152\u001b[0m \u001b[38;5;129m@_copy_docstring_and_deprecators\u001b[39m(Axes\u001b[38;5;241m.\u001b[39mcontourf)\n\u001b[1;32m   3153\u001b[0m \u001b[38;5;28;01mdef\u001b[39;00m \u001b[38;5;21mcontourf\u001b[39m(\u001b[38;5;241m*\u001b[39margs, data\u001b[38;5;241m=\u001b[39m\u001b[38;5;28;01mNone\u001b[39;00m, \u001b[38;5;241m*\u001b[39m\u001b[38;5;241m*\u001b[39mkwargs) \u001b[38;5;241m-\u001b[39m\u001b[38;5;241m>\u001b[39m QuadContourSet:\n\u001b[0;32m-> 3154\u001b[0m     __ret \u001b[38;5;241m=\u001b[39m \u001b[43mgca\u001b[49m\u001b[43m(\u001b[49m\u001b[43m)\u001b[49m\u001b[38;5;241;43m.\u001b[39;49m\u001b[43mcontourf\u001b[49m\u001b[43m(\u001b[49m\n\u001b[1;32m   3155\u001b[0m \u001b[43m        \u001b[49m\u001b[38;5;241;43m*\u001b[39;49m\u001b[43margs\u001b[49m\u001b[43m,\u001b[49m\u001b[43m \u001b[49m\u001b[38;5;241;43m*\u001b[39;49m\u001b[38;5;241;43m*\u001b[39;49m\u001b[43m(\u001b[49m\u001b[43m{\u001b[49m\u001b[38;5;124;43m\"\u001b[39;49m\u001b[38;5;124;43mdata\u001b[39;49m\u001b[38;5;124;43m\"\u001b[39;49m\u001b[43m:\u001b[49m\u001b[43m \u001b[49m\u001b[43mdata\u001b[49m\u001b[43m}\u001b[49m\u001b[43m \u001b[49m\u001b[38;5;28;43;01mif\u001b[39;49;00m\u001b[43m \u001b[49m\u001b[43mdata\u001b[49m\u001b[43m \u001b[49m\u001b[38;5;129;43;01mis\u001b[39;49;00m\u001b[43m \u001b[49m\u001b[38;5;129;43;01mnot\u001b[39;49;00m\u001b[43m \u001b[49m\u001b[38;5;28;43;01mNone\u001b[39;49;00m\u001b[43m \u001b[49m\u001b[38;5;28;43;01melse\u001b[39;49;00m\u001b[43m \u001b[49m\u001b[43m{\u001b[49m\u001b[43m}\u001b[49m\u001b[43m)\u001b[49m\u001b[43m,\u001b[49m\u001b[43m \u001b[49m\u001b[38;5;241;43m*\u001b[39;49m\u001b[38;5;241;43m*\u001b[39;49m\u001b[43mkwargs\u001b[49m\n\u001b[1;32m   3156\u001b[0m \u001b[43m    \u001b[49m\u001b[43m)\u001b[49m\n\u001b[1;32m   3157\u001b[0m     \u001b[38;5;28;01mif\u001b[39;00m __ret\u001b[38;5;241m.\u001b[39m_A \u001b[38;5;129;01mis\u001b[39;00m \u001b[38;5;129;01mnot\u001b[39;00m \u001b[38;5;28;01mNone\u001b[39;00m:  \u001b[38;5;66;03m# type: ignore[attr-defined]\u001b[39;00m\n\u001b[1;32m   3158\u001b[0m         sci(__ret)\n",
      "File \u001b[0;32m~/python_environments/sio/lib/python3.12/site-packages/matplotlib/__init__.py:1473\u001b[0m, in \u001b[0;36m_preprocess_data.<locals>.inner\u001b[0;34m(ax, data, *args, **kwargs)\u001b[0m\n\u001b[1;32m   1470\u001b[0m \u001b[38;5;129m@functools\u001b[39m\u001b[38;5;241m.\u001b[39mwraps(func)\n\u001b[1;32m   1471\u001b[0m \u001b[38;5;28;01mdef\u001b[39;00m \u001b[38;5;21minner\u001b[39m(ax, \u001b[38;5;241m*\u001b[39margs, data\u001b[38;5;241m=\u001b[39m\u001b[38;5;28;01mNone\u001b[39;00m, \u001b[38;5;241m*\u001b[39m\u001b[38;5;241m*\u001b[39mkwargs):\n\u001b[1;32m   1472\u001b[0m     \u001b[38;5;28;01mif\u001b[39;00m data \u001b[38;5;129;01mis\u001b[39;00m \u001b[38;5;28;01mNone\u001b[39;00m:\n\u001b[0;32m-> 1473\u001b[0m         \u001b[38;5;28;01mreturn\u001b[39;00m \u001b[43mfunc\u001b[49m\u001b[43m(\u001b[49m\n\u001b[1;32m   1474\u001b[0m \u001b[43m            \u001b[49m\u001b[43max\u001b[49m\u001b[43m,\u001b[49m\n\u001b[1;32m   1475\u001b[0m \u001b[43m            \u001b[49m\u001b[38;5;241;43m*\u001b[39;49m\u001b[38;5;28;43mmap\u001b[39;49m\u001b[43m(\u001b[49m\u001b[43msanitize_sequence\u001b[49m\u001b[43m,\u001b[49m\u001b[43m \u001b[49m\u001b[43margs\u001b[49m\u001b[43m)\u001b[49m\u001b[43m,\u001b[49m\n\u001b[1;32m   1476\u001b[0m \u001b[43m            \u001b[49m\u001b[38;5;241;43m*\u001b[39;49m\u001b[38;5;241;43m*\u001b[39;49m\u001b[43m{\u001b[49m\u001b[43mk\u001b[49m\u001b[43m:\u001b[49m\u001b[43m \u001b[49m\u001b[43msanitize_sequence\u001b[49m\u001b[43m(\u001b[49m\u001b[43mv\u001b[49m\u001b[43m)\u001b[49m\u001b[43m \u001b[49m\u001b[38;5;28;43;01mfor\u001b[39;49;00m\u001b[43m \u001b[49m\u001b[43mk\u001b[49m\u001b[43m,\u001b[49m\u001b[43m \u001b[49m\u001b[43mv\u001b[49m\u001b[43m \u001b[49m\u001b[38;5;129;43;01min\u001b[39;49;00m\u001b[43m \u001b[49m\u001b[43mkwargs\u001b[49m\u001b[38;5;241;43m.\u001b[39;49m\u001b[43mitems\u001b[49m\u001b[43m(\u001b[49m\u001b[43m)\u001b[49m\u001b[43m}\u001b[49m\u001b[43m)\u001b[49m\n\u001b[1;32m   1478\u001b[0m     bound \u001b[38;5;241m=\u001b[39m new_sig\u001b[38;5;241m.\u001b[39mbind(ax, \u001b[38;5;241m*\u001b[39margs, \u001b[38;5;241m*\u001b[39m\u001b[38;5;241m*\u001b[39mkwargs)\n\u001b[1;32m   1479\u001b[0m     auto_label \u001b[38;5;241m=\u001b[39m (bound\u001b[38;5;241m.\u001b[39marguments\u001b[38;5;241m.\u001b[39mget(label_namer)\n\u001b[1;32m   1480\u001b[0m                   \u001b[38;5;129;01mor\u001b[39;00m bound\u001b[38;5;241m.\u001b[39mkwargs\u001b[38;5;241m.\u001b[39mget(label_namer))\n",
      "File \u001b[0;32m~/python_environments/sio/lib/python3.12/site-packages/matplotlib/axes/_axes.py:6675\u001b[0m, in \u001b[0;36mAxes.contourf\u001b[0;34m(self, *args, **kwargs)\u001b[0m\n\u001b[1;32m   6666\u001b[0m \u001b[38;5;250m\u001b[39m\u001b[38;5;124;03m\"\"\"\u001b[39;00m\n\u001b[1;32m   6667\u001b[0m \u001b[38;5;124;03mPlot filled contours.\u001b[39;00m\n\u001b[1;32m   6668\u001b[0m \n\u001b[0;32m   (...)\u001b[0m\n\u001b[1;32m   6672\u001b[0m \u001b[38;5;124;03m%(contour_doc)s\u001b[39;00m\n\u001b[1;32m   6673\u001b[0m \u001b[38;5;124;03m\"\"\"\u001b[39;00m\n\u001b[1;32m   6674\u001b[0m kwargs[\u001b[38;5;124m'\u001b[39m\u001b[38;5;124mfilled\u001b[39m\u001b[38;5;124m'\u001b[39m] \u001b[38;5;241m=\u001b[39m \u001b[38;5;28;01mTrue\u001b[39;00m\n\u001b[0;32m-> 6675\u001b[0m contours \u001b[38;5;241m=\u001b[39m \u001b[43mmcontour\u001b[49m\u001b[38;5;241;43m.\u001b[39;49m\u001b[43mQuadContourSet\u001b[49m\u001b[43m(\u001b[49m\u001b[38;5;28;43mself\u001b[39;49m\u001b[43m,\u001b[49m\u001b[43m \u001b[49m\u001b[38;5;241;43m*\u001b[39;49m\u001b[43margs\u001b[49m\u001b[43m,\u001b[49m\u001b[43m \u001b[49m\u001b[38;5;241;43m*\u001b[39;49m\u001b[38;5;241;43m*\u001b[39;49m\u001b[43mkwargs\u001b[49m\u001b[43m)\u001b[49m\n\u001b[1;32m   6676\u001b[0m \u001b[38;5;28mself\u001b[39m\u001b[38;5;241m.\u001b[39m_request_autoscale_view()\n\u001b[1;32m   6677\u001b[0m \u001b[38;5;28;01mreturn\u001b[39;00m contours\n",
      "File \u001b[0;32m~/python_environments/sio/lib/python3.12/site-packages/matplotlib/contour.py:813\u001b[0m, in \u001b[0;36mContourSet.__init__\u001b[0;34m(self, ax, levels, filled, linewidths, linestyles, hatches, alpha, origin, extent, cmap, colors, norm, vmin, vmax, extend, antialiased, nchunk, locator, transform, negative_linestyles, clip_path, *args, **kwargs)\u001b[0m\n\u001b[1;32m    809\u001b[0m \u001b[38;5;28;01mif\u001b[39;00m \u001b[38;5;28mself\u001b[39m\u001b[38;5;241m.\u001b[39mnegative_linestyles \u001b[38;5;129;01mis\u001b[39;00m \u001b[38;5;28;01mNone\u001b[39;00m:\n\u001b[1;32m    810\u001b[0m     \u001b[38;5;28mself\u001b[39m\u001b[38;5;241m.\u001b[39mnegative_linestyles \u001b[38;5;241m=\u001b[39m \\\n\u001b[1;32m    811\u001b[0m         mpl\u001b[38;5;241m.\u001b[39mrcParams[\u001b[38;5;124m'\u001b[39m\u001b[38;5;124mcontour.negative_linestyle\u001b[39m\u001b[38;5;124m'\u001b[39m]\n\u001b[0;32m--> 813\u001b[0m kwargs \u001b[38;5;241m=\u001b[39m \u001b[38;5;28;43mself\u001b[39;49m\u001b[38;5;241;43m.\u001b[39;49m\u001b[43m_process_args\u001b[49m\u001b[43m(\u001b[49m\u001b[38;5;241;43m*\u001b[39;49m\u001b[43margs\u001b[49m\u001b[43m,\u001b[49m\u001b[43m \u001b[49m\u001b[38;5;241;43m*\u001b[39;49m\u001b[38;5;241;43m*\u001b[39;49m\u001b[43mkwargs\u001b[49m\u001b[43m)\u001b[49m\n\u001b[1;32m    814\u001b[0m \u001b[38;5;28mself\u001b[39m\u001b[38;5;241m.\u001b[39m_process_levels()\n\u001b[1;32m    816\u001b[0m \u001b[38;5;28mself\u001b[39m\u001b[38;5;241m.\u001b[39m_extend_min \u001b[38;5;241m=\u001b[39m \u001b[38;5;28mself\u001b[39m\u001b[38;5;241m.\u001b[39mextend \u001b[38;5;129;01min\u001b[39;00m [\u001b[38;5;124m'\u001b[39m\u001b[38;5;124mmin\u001b[39m\u001b[38;5;124m'\u001b[39m, \u001b[38;5;124m'\u001b[39m\u001b[38;5;124mboth\u001b[39m\u001b[38;5;124m'\u001b[39m]\n",
      "File \u001b[0;32m~/python_environments/sio/lib/python3.12/site-packages/matplotlib/contour.py:1470\u001b[0m, in \u001b[0;36mQuadContourSet._process_args\u001b[0;34m(self, corner_mask, algorithm, *args, **kwargs)\u001b[0m\n\u001b[1;32m   1467\u001b[0m         corner_mask \u001b[38;5;241m=\u001b[39m mpl\u001b[38;5;241m.\u001b[39mrcParams[\u001b[38;5;124m'\u001b[39m\u001b[38;5;124mcontour.corner_mask\u001b[39m\u001b[38;5;124m'\u001b[39m]\n\u001b[1;32m   1468\u001b[0m \u001b[38;5;28mself\u001b[39m\u001b[38;5;241m.\u001b[39m_corner_mask \u001b[38;5;241m=\u001b[39m corner_mask\n\u001b[0;32m-> 1470\u001b[0m x, y, z \u001b[38;5;241m=\u001b[39m \u001b[38;5;28;43mself\u001b[39;49m\u001b[38;5;241;43m.\u001b[39;49m\u001b[43m_contour_args\u001b[49m\u001b[43m(\u001b[49m\u001b[43margs\u001b[49m\u001b[43m,\u001b[49m\u001b[43m \u001b[49m\u001b[43mkwargs\u001b[49m\u001b[43m)\u001b[49m\n\u001b[1;32m   1472\u001b[0m contour_generator \u001b[38;5;241m=\u001b[39m contourpy\u001b[38;5;241m.\u001b[39mcontour_generator(\n\u001b[1;32m   1473\u001b[0m     x, y, z, name\u001b[38;5;241m=\u001b[39m\u001b[38;5;28mself\u001b[39m\u001b[38;5;241m.\u001b[39m_algorithm, corner_mask\u001b[38;5;241m=\u001b[39m\u001b[38;5;28mself\u001b[39m\u001b[38;5;241m.\u001b[39m_corner_mask,\n\u001b[1;32m   1474\u001b[0m     line_type\u001b[38;5;241m=\u001b[39mcontourpy\u001b[38;5;241m.\u001b[39mLineType\u001b[38;5;241m.\u001b[39mSeparateCode,\n\u001b[1;32m   1475\u001b[0m     fill_type\u001b[38;5;241m=\u001b[39mcontourpy\u001b[38;5;241m.\u001b[39mFillType\u001b[38;5;241m.\u001b[39mOuterCode,\n\u001b[1;32m   1476\u001b[0m     chunk_size\u001b[38;5;241m=\u001b[39m\u001b[38;5;28mself\u001b[39m\u001b[38;5;241m.\u001b[39mnchunk)\n\u001b[1;32m   1478\u001b[0m t \u001b[38;5;241m=\u001b[39m \u001b[38;5;28mself\u001b[39m\u001b[38;5;241m.\u001b[39mget_transform()\n",
      "File \u001b[0;32m~/python_environments/sio/lib/python3.12/site-packages/matplotlib/contour.py:1507\u001b[0m, in \u001b[0;36mQuadContourSet._contour_args\u001b[0;34m(self, args, kwargs)\u001b[0m\n\u001b[1;32m   1505\u001b[0m     z, \u001b[38;5;241m*\u001b[39margs \u001b[38;5;241m=\u001b[39m args\n\u001b[1;32m   1506\u001b[0m     z \u001b[38;5;241m=\u001b[39m ma\u001b[38;5;241m.\u001b[39masarray(z)\n\u001b[0;32m-> 1507\u001b[0m     x, y \u001b[38;5;241m=\u001b[39m \u001b[38;5;28;43mself\u001b[39;49m\u001b[38;5;241;43m.\u001b[39;49m\u001b[43m_initialize_x_y\u001b[49m\u001b[43m(\u001b[49m\u001b[43mz\u001b[49m\u001b[43m)\u001b[49m\n\u001b[1;32m   1508\u001b[0m \u001b[38;5;28;01melif\u001b[39;00m \u001b[38;5;241m2\u001b[39m \u001b[38;5;241m<\u001b[39m nargs \u001b[38;5;241m<\u001b[39m\u001b[38;5;241m=\u001b[39m \u001b[38;5;241m4\u001b[39m:\n\u001b[1;32m   1509\u001b[0m     x, y, z_orig, \u001b[38;5;241m*\u001b[39margs \u001b[38;5;241m=\u001b[39m args\n",
      "File \u001b[0;32m~/python_environments/sio/lib/python3.12/site-packages/matplotlib/contour.py:1581\u001b[0m, in \u001b[0;36mQuadContourSet._initialize_x_y\u001b[0;34m(self, z)\u001b[0m\n\u001b[1;32m   1568\u001b[0m \u001b[38;5;250m\u001b[39m\u001b[38;5;124;03m\"\"\"\u001b[39;00m\n\u001b[1;32m   1569\u001b[0m \u001b[38;5;124;03mReturn X, Y arrays such that contour(Z) will match imshow(Z)\u001b[39;00m\n\u001b[1;32m   1570\u001b[0m \u001b[38;5;124;03mif origin is not None.\u001b[39;00m\n\u001b[0;32m   (...)\u001b[0m\n\u001b[1;32m   1578\u001b[0m \u001b[38;5;124;03mwill give the minimum and maximum values of x and y.\u001b[39;00m\n\u001b[1;32m   1579\u001b[0m \u001b[38;5;124;03m\"\"\"\u001b[39;00m\n\u001b[1;32m   1580\u001b[0m \u001b[38;5;28;01mif\u001b[39;00m z\u001b[38;5;241m.\u001b[39mndim \u001b[38;5;241m!=\u001b[39m \u001b[38;5;241m2\u001b[39m:\n\u001b[0;32m-> 1581\u001b[0m     \u001b[38;5;28;01mraise\u001b[39;00m \u001b[38;5;167;01mTypeError\u001b[39;00m(\u001b[38;5;124mf\u001b[39m\u001b[38;5;124m\"\u001b[39m\u001b[38;5;124mInput z must be 2D, not \u001b[39m\u001b[38;5;132;01m{\u001b[39;00mz\u001b[38;5;241m.\u001b[39mndim\u001b[38;5;132;01m}\u001b[39;00m\u001b[38;5;124mD\u001b[39m\u001b[38;5;124m\"\u001b[39m)\n\u001b[1;32m   1582\u001b[0m \u001b[38;5;28;01melif\u001b[39;00m z\u001b[38;5;241m.\u001b[39mshape[\u001b[38;5;241m0\u001b[39m] \u001b[38;5;241m<\u001b[39m \u001b[38;5;241m2\u001b[39m \u001b[38;5;129;01mor\u001b[39;00m z\u001b[38;5;241m.\u001b[39mshape[\u001b[38;5;241m1\u001b[39m] \u001b[38;5;241m<\u001b[39m \u001b[38;5;241m2\u001b[39m:\n\u001b[1;32m   1583\u001b[0m     \u001b[38;5;28;01mraise\u001b[39;00m \u001b[38;5;167;01mTypeError\u001b[39;00m(\u001b[38;5;124mf\u001b[39m\u001b[38;5;124m\"\u001b[39m\u001b[38;5;124mInput z must be at least a (2, 2) shaped array, \u001b[39m\u001b[38;5;124m\"\u001b[39m\n\u001b[1;32m   1584\u001b[0m                     \u001b[38;5;124mf\u001b[39m\u001b[38;5;124m\"\u001b[39m\u001b[38;5;124mbut has shape \u001b[39m\u001b[38;5;132;01m{\u001b[39;00mz\u001b[38;5;241m.\u001b[39mshape\u001b[38;5;132;01m}\u001b[39;00m\u001b[38;5;124m\"\u001b[39m)\n",
      "\u001b[0;31mTypeError\u001b[0m: Input z must be 2D, not 1D"
     ]
    },
    {
     "data": {
      "image/png": "[encoded data removed]",
      "text/plain": [
       "<Figure size 640x480 with 1 Axes>"
      ]
     },
     "metadata": {},
     "output_type": "display_data"
    }
   ],
   "source": [
    "# now save only the area of interest \n",
    "\n",
    "xmin = -122\n",
    "xmax = -118\n",
    "\n",
    "ymin = 32\n",
    "ymax = 36\n",
    "\n",
    "# select only the region of interest \n",
    "\n",
    "xbounds = np.logical_and(lon>=xmin,lon<=xmax)\n",
    "xb = np.nonzero(xbounds==True)[0]\n",
    "ybounds = np.logical_and(lat>=ymin,lat<=ymax)\n",
    "yb = np.nonzero(ybounds==True)[0]\n",
    "\n",
    "# chl shape = (2160,4320) ; lon = 4320; lat = 2160 \n",
    "# aka, chl shape = (lat,lon)\n",
    "\n",
    "chl_select = chl[yb,xb]\n",
    "\n",
    "plt.contourf(chl_select)"
   ]
  },
  {
   "cell_type": "code",
   "execution_count": 18,
   "id": "df1d4266-9542-4b4a-a819-065100f2aae4",
   "metadata": {},
   "outputs": [
    {
     "data": {
      "text/plain": [
       "<matplotlib.contour.QuadContourSet at 0x73854652a240>"
      ]
     },
     "execution_count": 18,
     "metadata": {},
     "output_type": "execute_result"
    },
    {
     "data": {
      "image/png": "[encoded data removed]",
      "text/plain": [
       "<Figure size 640x480 with 1 Axes>"
      ]
     },
     "metadata": {},
     "output_type": "display_data"
    }
   ],
   "source": [
    "# chatgpt use as you go victoria ! \n",
    "\n",
    "# using indices \n",
    "\n",
    "# Find indices for lat and lon\n",
    "lat_indices = np.where((lat >= ymin) & (lat <= ymax))[0]\n",
    "lon_indices = np.where((lon >= xmin) & (lon <= xmax))[0]\n",
    "\n",
    "lat_select = lat[np.min(lat_indices):np.max(lat_indices) + 1]\n",
    "lon_select = lon[np.min(lon_indices):np.max(lon_indices) + 1]\n",
    "\n",
    "\n",
    "# Use the indices to slice the chlorophyll data\n",
    "chl_select = chl[np.min(lat_indices):np.max(lat_indices) + 1,\n",
    "                 np.min(lon_indices):np.max(lon_indices) + 1]\n",
    "\n",
    "plt.contourf(lon_select,lat_select,chl_select)"
   ]
  },
  {
   "cell_type": "code",
   "execution_count": 43,
   "id": "a975d6eb-a4ca-455e-8108-75001e5b074c",
   "metadata": {},
   "outputs": [
    {
     "data": {
      "text/plain": [
       "array([[nan, nan, nan, ..., nan, nan, nan],\n",
       "       [nan, nan, nan, ..., nan, nan, nan],\n",
       "       [nan, nan, nan, ..., nan, nan, nan],\n",
       "       ...,\n",
       "       [nan, nan, nan, ..., nan, nan, nan],\n",
       "       [nan, nan, nan, ..., nan, nan, nan],\n",
       "       [nan, nan, nan, ..., nan, nan, nan]], dtype=float32)"
      ]
     },
     "execution_count": 43,
     "metadata": {},
     "output_type": "execute_result"
    }
   ],
   "source": [
    "# next step will be to save this in a loop according to the data files that i have \n",
    "\n",
    "\n"
   ]
  },
  {
   "cell_type": "code",
   "execution_count": 44,
   "id": "6766027d-f03f-4de3-bff1-85f92a854381",
   "metadata": {},
   "outputs": [
    {
     "data": {
      "text/plain": [
       "(2160, 4320)"
      ]
     },
     "execution_count": 44,
     "metadata": {},
     "output_type": "execute_result"
    }
   ],
   "source": [
    "chl.shape"
   ]
  },
  {
   "cell_type": "code",
   "execution_count": 45,
   "id": "da2d91d4-c826-49db-a84b-430c7c446087",
   "metadata": {},
   "outputs": [
    {
     "data": {
      "text/plain": [
       "(4320,)"
      ]
     },
     "execution_count": 45,
     "metadata": {},
     "output_type": "execute_result"
    }
   ],
   "source": [
    "lon.shape"
   ]
  },
  {
   "cell_type": "code",
   "execution_count": 47,
   "id": "65e14873-fa98-4307-813d-30e3c126f38a",
   "metadata": {},
   "outputs": [],
   "source": [
    "chl_select = chl[ybounds,xbounds]\n"
   ]
  },
  {
   "cell_type": "code",
   "execution_count": null,
   "id": "aa8ff061-1937-4bc5-ba2a-e1dc40999759",
   "metadata": {},
   "outputs": [],
   "source": [
    "chl[chl==-32767.0] = np.nan"
   ]
  },
  {
   "cell_type": "code",
   "execution_count": 30,
   "id": "31fc06e2-ea8d-44de-acd9-53dd9f28e060",
   "metadata": {},
   "outputs": [
    {
     "data": {
      "text/plain": [
       "['AQUA_MODIS.20240125_20240201.L3m.8D.CHL.chlor_a.9km.nc',\n",
       " 'AQUA_MODIS.20240202_20240209.L3m.8D.CHL.chlor_a.9km.nc',\n",
       " 'AQUA_MODIS.20240210_20240217.L3m.8D.CHL.chlor_a.9km.nc',\n",
       " 'AQUA_MODIS.20240218_20240225.L3m.8D.CHL.chlor_a.9km.nc',\n",
       " 'AQUA_MODIS.20240226_20240304.L3m.8D.CHL.chlor_a.9km.nc',\n",
       " 'AQUA_MODIS.20240305_20240312.L3m.8D.CHL.chlor_a.9km.nc',\n",
       " 'AQUA_MODIS.20240313_20240320.L3m.8D.CHL.chlor_a.9km.nc',\n",
       " 'AQUA_MODIS.20240321_20240328.L3m.8D.CHL.chlor_a.9km.nc',\n",
       " 'AQUA_MODIS.20240329_20240405.L3m.8D.CHL.chlor_a.9km.nc']"
      ]
     },
     "execution_count": 30,
     "metadata": {},
     "output_type": "execute_result"
    }
   ],
   "source": [
    "sorted_files"
   ]
  },
  {
   "cell_type": "code",
   "execution_count": 34,
   "id": "597b398d-82c8-4cae-8127-5b4e70434c2c",
   "metadata": {},
   "outputs": [
    {
     "data": {
      "text/plain": [
       "'20240201'"
      ]
     },
     "execution_count": 34,
     "metadata": {},
     "output_type": "execute_result"
    }
   ],
   "source": [
    "sorted_files[0][20:28]"
   ]
  },
  {
   "cell_type": "code",
   "execution_count": 57,
   "id": "8d2b7aa9-38eb-4dfd-b621-8ea941c1cb04",
   "metadata": {},
   "outputs": [],
   "source": [
    "nx = len(lon)\n",
    "ny = len(lat)\n",
    "nt = len(sorted_files) \n",
    "chl_compiled = np.zeros((ny,nx,nt))*np.nan\n",
    "date_intervals = []\n",
    "dates = []\n",
    "\n",
    "for ii,ff in enumerate(sorted_files):\n",
    "    # extract the start date string (YYYYMMDD)\n",
    "    start_date = ff[11:19] \n",
    "    # convert to datetime \n",
    "    start_dt = dt.datetime.strptime(start_date, '%Y%m%d')\n",
    "    # and for end date: \n",
    "    end_date = ff[20:28] \n",
    "    end_dt = dt.datetime.strptime(end_date, '%Y%m%d')\n",
    "\n",
    "    date_intervals.append((start_dt, end_dt))\n",
    "    dates.append(start_dt)\n",
    "\n",
    "    S = netCDF4.Dataset(path+ff) \n",
    "\n",
    "    chl_nc = S['chlor_a'][:]\n",
    "    chl_here = chl_nc.data\n",
    "    chl_here[chl_nc.mask==True]=np.nan\n",
    "    \n",
    "    lon = S['lon'][:].data\n",
    "    lat = S['lat'][:].data\n",
    "\n",
    "    chl_compiled[:,:,ii] = chl_here\n",
    "    "
   ]
  },
  {
   "cell_type": "code",
   "execution_count": 43,
   "id": "4ddc34ae-1f61-4bc1-b313-833ee0283a3f",
   "metadata": {},
   "outputs": [
    {
     "data": {
      "text/plain": [
       "(2160, 4320, 9)"
      ]
     },
     "execution_count": 43,
     "metadata": {},
     "output_type": "execute_result"
    }
   ],
   "source": [
    "chl_compiled.shape"
   ]
  },
  {
   "cell_type": "code",
   "execution_count": 58,
   "id": "df2b94c5-d1d2-4f8c-a265-d73693abed55",
   "metadata": {},
   "outputs": [
    {
     "data": {
      "text/plain": [
       "[datetime.datetime(2024, 1, 25, 0, 0),\n",
       " datetime.datetime(2024, 2, 2, 0, 0),\n",
       " datetime.datetime(2024, 2, 10, 0, 0),\n",
       " datetime.datetime(2024, 2, 18, 0, 0),\n",
       " datetime.datetime(2024, 2, 26, 0, 0),\n",
       " datetime.datetime(2024, 3, 5, 0, 0),\n",
       " datetime.datetime(2024, 3, 13, 0, 0),\n",
       " datetime.datetime(2024, 3, 21, 0, 0),\n",
       " datetime.datetime(2024, 3, 29, 0, 0)]"
      ]
     },
     "execution_count": 58,
     "metadata": {},
     "output_type": "execute_result"
    }
   ],
   "source": [
    "dates"
   ]
  },
  {
   "cell_type": "code",
   "execution_count": 55,
   "id": "aea25106-7b0e-4e61-a47c-40863262597e",
   "metadata": {},
   "outputs": [
    {
     "data": {
      "text/plain": [
       "['AQUA_MODIS.20240125_20240201.L3m.8D.CHL.chlor_a.9km.nc',\n",
       " 'AQUA_MODIS.20240202_20240209.L3m.8D.CHL.chlor_a.9km.nc',\n",
       " 'AQUA_MODIS.20240210_20240217.L3m.8D.CHL.chlor_a.9km.nc',\n",
       " 'AQUA_MODIS.20240218_20240225.L3m.8D.CHL.chlor_a.9km.nc',\n",
       " 'AQUA_MODIS.20240226_20240304.L3m.8D.CHL.chlor_a.9km.nc',\n",
       " 'AQUA_MODIS.20240305_20240312.L3m.8D.CHL.chlor_a.9km.nc',\n",
       " 'AQUA_MODIS.20240313_20240320.L3m.8D.CHL.chlor_a.9km.nc',\n",
       " 'AQUA_MODIS.20240321_20240328.L3m.8D.CHL.chlor_a.9km.nc',\n",
       " 'AQUA_MODIS.20240329_20240405.L3m.8D.CHL.chlor_a.9km.nc']"
      ]
     },
     "execution_count": 55,
     "metadata": {},
     "output_type": "execute_result"
    }
   ],
   "source": [
    "sorted_files"
   ]
  },
  {
   "cell_type": "code",
   "execution_count": 59,
   "id": "fc2de0f3-2cf3-452d-92d5-c53dbb69d638",
   "metadata": {
    "scrolled": true
   },
   "outputs": [
    {
     "name": "stdout",
     "output_type": "stream",
     "text": [
      "[1 2 2 2 2 3 3 3 3]\n"
     ]
    }
   ],
   "source": [
    "months = np.array([dd.month for dd in dates]) \n",
    "print(months)"
   ]
  },
  {
   "cell_type": "code",
   "execution_count": 54,
   "id": "45c2d1b8-d396-4d03-9642-aa1bb740dfd1",
   "metadata": {},
   "outputs": [
    {
     "data": {
      "text/plain": [
       "1"
      ]
     },
     "execution_count": 54,
     "metadata": {},
     "output_type": "execute_result"
    }
   ],
   "source": [
    "ii"
   ]
  },
  {
   "cell_type": "code",
   "execution_count": 53,
   "id": "0dec5e92-cbf6-4d5c-aa6a-a029c6c9d020",
   "metadata": {},
   "outputs": [
    {
     "data": {
      "text/plain": [
       "(array([ 0,  9, 10]),)"
      ]
     },
     "execution_count": 53,
     "metadata": {},
     "output_type": "execute_result"
    }
   ],
   "source": [
    "np.nonzero(months==ii)"
   ]
  },
  {
   "cell_type": "code",
   "execution_count": 69,
   "id": "70125558-5c59-4b28-a8c2-6caf2eceba99",
   "metadata": {},
   "outputs": [
    {
     "name": "stderr",
     "output_type": "stream",
     "text": [
      "/tmp/ipykernel_1826960/56362160.py:8: RuntimeWarning: Mean of empty slice\n",
      "  chl_mmean[:,:,ii] = np.nanmean(chl_thismonth,axis=2)\n"
     ]
    }
   ],
   "source": [
    "\n",
    "chl_mmean = np.zeros((ny,nx,12))\n",
    "\n",
    "for ii,mm in enumerate(np.arange(1,13)):    \n",
    "    meets_month = np.nonzero(months==ii)[0]\n",
    "    chl_thismonth = chl_compiled[:,:,meets_month]\n",
    "\n",
    "    # calculate mean over all months with data \n",
    "    chl_mmean[:,:,ii] = np.nanmean(chl_thismonth,axis=2)\n",
    "\n",
    "    \n",
    "    "
   ]
  },
  {
   "cell_type": "code",
   "execution_count": 71,
   "id": "ff5e1a89-ed2c-4a35-a96d-2bfe19f04370",
   "metadata": {},
   "outputs": [
    {
     "data": {
      "text/plain": [
       "(2160, 4320, 12)"
      ]
     },
     "execution_count": 71,
     "metadata": {},
     "output_type": "execute_result"
    }
   ],
   "source": [
    "chl_mmean.shape"
   ]
  },
  {
   "cell_type": "code",
   "execution_count": 1,
   "id": "0f2803f3-e5a1-4c72-9e5f-dae54e5a9931",
   "metadata": {},
   "outputs": [
    {
     "ename": "NameError",
     "evalue": "name 'np' is not defined",
     "output_type": "error",
     "traceback": [
      "\u001b[0;31m---------------------------------------------------------------------------\u001b[0m",
      "\u001b[0;31mNameError\u001b[0m                                 Traceback (most recent call last)",
      "Cell \u001b[0;32mIn[1], line 5\u001b[0m\n\u001b[1;32m      1\u001b[0m \u001b[38;5;66;03m# now make plot - 12 months, want 3x4 subplot \u001b[39;00m\n\u001b[1;32m      3\u001b[0m month_list \u001b[38;5;241m=\u001b[39m [\u001b[38;5;124m'\u001b[39m\u001b[38;5;124mJan\u001b[39m\u001b[38;5;124m'\u001b[39m,\u001b[38;5;124m'\u001b[39m\u001b[38;5;124mFeb\u001b[39m\u001b[38;5;124m'\u001b[39m,\u001b[38;5;124m'\u001b[39m\u001b[38;5;124mMar\u001b[39m\u001b[38;5;124m'\u001b[39m,\u001b[38;5;124m'\u001b[39m\u001b[38;5;124mApr\u001b[39m\u001b[38;5;124m'\u001b[39m,\u001b[38;5;124m'\u001b[39m\u001b[38;5;124mMay\u001b[39m\u001b[38;5;124m'\u001b[39m,\u001b[38;5;124m'\u001b[39m\u001b[38;5;124mJun\u001b[39m\u001b[38;5;124m'\u001b[39m,\u001b[38;5;124m'\u001b[39m\u001b[38;5;124mJul\u001b[39m\u001b[38;5;124m'\u001b[39m,\u001b[38;5;124m'\u001b[39m\u001b[38;5;124mAug\u001b[39m\u001b[38;5;124m'\u001b[39m,\u001b[38;5;124m'\u001b[39m\u001b[38;5;124mSep\u001b[39m\u001b[38;5;124m'\u001b[39m,\u001b[38;5;124m'\u001b[39m\u001b[38;5;124mOct\u001b[39m\u001b[38;5;124m'\u001b[39m,\u001b[38;5;124m'\u001b[39m\u001b[38;5;124mNov\u001b[39m\u001b[38;5;124m'\u001b[39m,\u001b[38;5;124m'\u001b[39m\u001b[38;5;124mDec\u001b[39m\u001b[38;5;124m'\u001b[39m]\n\u001b[0;32m----> 5\u001b[0m logchl_mmean \u001b[38;5;241m=\u001b[39m \u001b[43mnp\u001b[49m\u001b[38;5;241m.\u001b[39mlog(chl_mmean)\n\u001b[1;32m      7\u001b[0m fig \u001b[38;5;241m=\u001b[39m plt\u001b[38;5;241m.\u001b[39mfigure(figsize\u001b[38;5;241m=\u001b[39m(\u001b[38;5;241m20\u001b[39m,\u001b[38;5;241m10\u001b[39m))\n\u001b[1;32m      8\u001b[0m plt\u001b[38;5;241m.\u001b[39msuptitle(\u001b[38;5;124m'\u001b[39m\u001b[38;5;124mOcean Color Climatology from 2010-2024 8-day Composites\u001b[39m\u001b[38;5;124m'\u001b[39m)\n",
      "\u001b[0;31mNameError\u001b[0m: name 'np' is not defined"
     ]
    }
   ],
   "source": [
    "# now make plot - 12 months, want 3x4 subplot \n",
    "\n",
    "month_list = ['Jan','Feb','Mar','Apr','May','Jun','Jul','Aug','Sep','Oct','Nov','Dec']\n",
    "\n",
    "logchl_mmean = np.log(chl_mmean)\n",
    "\n",
    "fig = plt.figure(figsize=(20,10))\n",
    "plt.suptitle('Ocean Color Climatology from 2010-2024 8-day Composites')\n",
    "for ii in np.arange(1,13): \n",
    "    plt.subplot(4,3,ii)\n",
    "    plt.contourf(lon_select,lat_select,chl_mmean[:,:,ii-1])\n",
    "    plt.title(f'{month_list[ii-1]} Climatology')\n",
    "    \n",
    "\n"
   ]
  },
  {
   "cell_type": "code",
   "execution_count": 36,
   "id": "c48dcf67-4237-48b8-893d-a3ddbe50f512",
   "metadata": {},
   "outputs": [
    {
     "data": {
      "text/plain": [
       "[datetime.datetime(2024, 1, 25, 0, 0),\n",
       " datetime.datetime(2024, 2, 2, 0, 0),\n",
       " datetime.datetime(2024, 2, 10, 0, 0),\n",
       " datetime.datetime(2024, 2, 18, 0, 0),\n",
       " datetime.datetime(2024, 2, 26, 0, 0),\n",
       " datetime.datetime(2024, 3, 5, 0, 0),\n",
       " datetime.datetime(2024, 3, 13, 0, 0),\n",
       " datetime.datetime(2024, 3, 21, 0, 0),\n",
       " datetime.datetime(2024, 3, 29, 0, 0)]"
      ]
     },
     "execution_count": 36,
     "metadata": {},
     "output_type": "execute_result"
    }
   ],
   "source": [
    "# make monthly climatology \n",
    "\n",
    "# in this case, we will now have chl cropped and processes for each timestep \n",
    "# we will proceed to loop through each and make a correctly sized (lon,lat) by time (12 months) \n",
    "\n",
    "# will have big array of chl = (lon,lat,timeinterval) \n",
    "# ... make a big array of chl = (lon,lat,time,month) ? \n",
    "# no thats repetitive -- index based on datetime objects in list of dates\n",
    "\n",
    "months = np.array([dd.month for dd in dates]) \n",
    "\n",
    "for ii,dd in enumerate(dates): \n",
    "    \n",
    "    \n",
    "\n",
    "# make a parse literal where if month == mm, average \n",
    "# will result in a median = (lon,lat,12) \n",
    "\n",
    "# chl monthly mean \n",
    "\n",
    "nx = len(lon)\n",
    "ny = len(lat) \n",
    "nt = len(dates) \n",
    "\n",
    "chl_mmean = np.zeros((nx,ny,12))\n",
    "\n",
    "for ii,mm in enumerate(np.arange(1,13)): \n",
    "    \n",
    "    \n"
   ]
  },
  {
   "cell_type": "code",
   "execution_count": 39,
   "id": "06877253-0352-46ff-923f-4788b2179b2b",
   "metadata": {},
   "outputs": [
    {
     "data": {
      "text/plain": [
       "array([ 0,  1,  2,  3,  4,  5,  6,  7,  8,  9, 10, 11])"
      ]
     },
     "execution_count": 39,
     "metadata": {},
     "output_type": "execute_result"
    }
   ],
   "source": [
    "np.arange(1,13)"
   ]
  },
  {
   "cell_type": "code",
   "execution_count": 21,
   "id": "db3faf6b-2c5b-4314-b82b-4eaed6be8036",
   "metadata": {},
   "outputs": [
    {
     "data": {
      "text/plain": [
       "['AQUA_MODIS.20240125_20240201.L3m.8D.CHL.chlor_a.9km.nc',\n",
       " 'AQUA_MODIS.20240202_20240209.L3m.8D.CHL.chlor_a.9km.nc',\n",
       " 'AQUA_MODIS.20240210_20240217.L3m.8D.CHL.chlor_a.9km.nc',\n",
       " 'AQUA_MODIS.20240218_20240225.L3m.8D.CHL.chlor_a.9km.nc',\n",
       " 'AQUA_MODIS.20240226_20240304.L3m.8D.CHL.chlor_a.9km.nc',\n",
       " 'AQUA_MODIS.20240305_20240312.L3m.8D.CHL.chlor_a.9km.nc',\n",
       " 'AQUA_MODIS.20240313_20240320.L3m.8D.CHL.chlor_a.9km.nc',\n",
       " 'AQUA_MODIS.20240321_20240328.L3m.8D.CHL.chlor_a.9km.nc',\n",
       " 'AQUA_MODIS.20240329_20240405.L3m.8D.CHL.chlor_a.9km.nc']"
      ]
     },
     "execution_count": 21,
     "metadata": {},
     "output_type": "execute_result"
    }
   ],
   "source": [
    "sorted_files"
   ]
  },
  {
   "cell_type": "code",
   "execution_count": 23,
   "id": "44df5ac3-d512-42ee-a209-e287c537bef8",
   "metadata": {},
   "outputs": [
    {
     "data": {
      "text/plain": [
       "['0240125_',\n",
       " '0240125_',\n",
       " '0240202_',\n",
       " '0240210_',\n",
       " '0240218_',\n",
       " '0240226_',\n",
       " '0240305_',\n",
       " '0240313_',\n",
       " '0240321_',\n",
       " '0240329_']"
      ]
     },
     "execution_count": 23,
     "metadata": {},
     "output_type": "execute_result"
    }
   ],
   "source": [
    "dates"
   ]
  },
  {
   "cell_type": "code",
   "execution_count": null,
   "id": "782ba962-fe33-4600-b09e-126854703aef",
   "metadata": {},
   "outputs": [],
   "source": []
  },
  {
   "cell_type": "code",
   "execution_count": null,
   "id": "9a36f5f4-360d-445b-8ef6-a73901865e81",
   "metadata": {},
   "outputs": [],
   "source": []
  }
 ],
 "metadata": {
  "kernelspec": {
   "display_name": "Python 3 (ipykernel)",
   "language": "python",
   "name": "python3"
  },
  "language_info": {
   "codemirror_mode": {
    "name": "ipython",
    "version": 3
   },
   "file_extension": ".py",
   "mimetype": "text/x-python",
   "name": "python",
   "nbconvert_exporter": "python",
   "pygments_lexer": "ipython3",
   "version": "3.12.3"
  }
 },
 "nbformat": 4,
 "nbformat_minor": 5
}
