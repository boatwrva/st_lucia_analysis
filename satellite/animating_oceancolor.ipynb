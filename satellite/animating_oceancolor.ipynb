{
 "cells": [
  {
   "cell_type": "code",
   "execution_count": null,
   "metadata": {},
   "outputs": [],
   "source": [
    "# how to make a movie \n",
    "\n",
    "# install packages\n",
    "pip install matplotlib numpy imageio ffmpeg\n",
    "\n",
    "# For saving as a GIF, ImageMagick must be installed:\n",
    "\n",
    "# on Linux (Ubuntu/Debian):\n",
    "sudo apt-get install imagemagick"
   ]
  },
  {
   "cell_type": "code",
   "execution_count": null,
   "metadata": {},
   "outputs": [],
   "source": [
    "# create animation \n",
    "\n",
    "import numpy as np\n",
    "import matplotlib.pyplot as plt\n",
    "import matplotlib.animation as animation\n",
    "\n",
    "# Generate x values\n",
    "x = np.linspace(0, 2*np.pi, 100)\n",
    "\n",
    "# Create figure and axis\n",
    "fig, ax = plt.subplots()\n",
    "line, = ax.plot(x, np.sin(x))\n",
    "\n",
    "# Set axis limits\n",
    "ax.set_ylim(-1.5, 1.5)\n",
    "\n",
    "# Animation function: updates the y-data\n",
    "def update(frame):\n",
    "    line.set_ydata(np.sin(x + 0.1 * frame))  # Shift sine wave\n",
    "    return line,\n",
    "\n",
    "# Create the animation\n",
    "ani = animation.FuncAnimation(fig, update, frames=100, interval=50, blit=True)\n",
    "\n",
    "plt.show()  # Show animation in Jupyter Notebook\n",
    "\n"
   ]
  },
  {
   "cell_type": "code",
   "execution_count": null,
   "metadata": {},
   "outputs": [],
   "source": [
    "# save animation \n",
    "\n",
    "ani.save(\"sine_wave.gif\", writer=\"pillow\", fps=20)\n",
    "\n",
    "# or \n",
    "\n",
    "ani.save(\"sine_wave.mp4\", writer=\"ffmpeg\", fps=20)"
   ]
  },
  {
   "cell_type": "code",
   "execution_count": null,
   "metadata": {},
   "outputs": [],
   "source": [
    "# display via notebook\n",
    "from IPython.display import Image\n",
    "Image(filename=\"sine_wave.gif\")\n"
   ]
  }
 ],
 "metadata": {
  "language_info": {
   "name": "python"
  }
 },
 "nbformat": 4,
 "nbformat_minor": 2
}
